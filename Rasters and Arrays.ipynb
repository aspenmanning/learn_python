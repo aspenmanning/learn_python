{
 "cells": [
  {
   "cell_type": "code",
   "execution_count": 238,
   "metadata": {},
   "outputs": [],
   "source": [
    "import numpy as np"
   ]
  },
  {
   "cell_type": "markdown",
   "metadata": {},
   "source": [
    "# Different arrangements of arrays\n",
    "\n",
    "**Rasterio** is used to import/export raster data, including multi-band imagery. It structures its arrays in the following order: \\[bands\\]\\[rows\\]\\[columns\\]. This is the band sequential ordering.\n",
    "\n",
    "**Scikit-learn (sklearn)** is used for machine learning and includes algorithms for image classification, among other things. It structures its arrays as 2-dimensional arrays in the following order: \\[samples\\]\\[features\\].  The first element of the array is equivalent to a pixel and the second element is the band number. A Scikit-learn array is of size: \\[rows * columns\\]\\[bands\\]. \n",
    "\n",
    "**matplotlib** is a visualization library. It expects multi-dimensional arrays to be structured yet a third way: \\[rows\\]\\[columns\\]\\[bands\\]. This is equivalent to a band-interleaved by pixel ordering.\n",
    "\n",
    "---\n",
    "\n",
    "If you read/write image data using **Rasterio** and...\n",
    "\n",
    "...if you desire to apply machine learning algorithms to that image data using **Scikit-learn**, \n",
    "\n",
    "...and/or, if you desire to plot your data using **matplotlib**, then you will have to switch between array structures. \n",
    "\n",
    "This is a brief tutorial that shows you how to make these switches.\n",
    "\n",
    "---"
   ]
  },
  {
   "cell_type": "markdown",
   "metadata": {},
   "source": [
    "##### 1. Let's create an array that is equivalent to the array produced by Rasterio. We'll create a small Rasterio-style array with 3 bands, 4 rows and 5 columns. We'll create it in pieces to see the entire structure and all its values."
   ]
  },
  {
   "cell_type": "markdown",
   "metadata": {},
   "source": [
    "* First, create an image band (b1) with values 1 through 20"
   ]
  },
  {
   "cell_type": "code",
   "execution_count": 239,
   "metadata": {},
   "outputs": [],
   "source": [
    "b1 = np.arange(1, 21, dtype=np.uint8).reshape(4,5)"
   ]
  },
  {
   "cell_type": "code",
   "execution_count": 240,
   "metadata": {},
   "outputs": [
    {
     "data": {
      "text/plain": [
       "array([[ 1,  2,  3,  4,  5],\n",
       "       [ 6,  7,  8,  9, 10],\n",
       "       [11, 12, 13, 14, 15],\n",
       "       [16, 17, 18, 19, 20]], dtype=uint8)"
      ]
     },
     "execution_count": 240,
     "metadata": {},
     "output_type": "execute_result"
    }
   ],
   "source": [
    "b1"
   ]
  },
  {
   "cell_type": "markdown",
   "metadata": {},
   "source": [
    "* Second, create 2 more bands (b2 and b3) that are multiples of the first band (b1)."
   ]
  },
  {
   "cell_type": "code",
   "execution_count": 241,
   "metadata": {},
   "outputs": [],
   "source": [
    "b2, b3 = b1 * 5, b1 * 10"
   ]
  },
  {
   "cell_type": "code",
   "execution_count": 242,
   "metadata": {},
   "outputs": [
    {
     "data": {
      "text/plain": [
       "array([[  5,  10,  15,  20,  25],\n",
       "       [ 30,  35,  40,  45,  50],\n",
       "       [ 55,  60,  65,  70,  75],\n",
       "       [ 80,  85,  90,  95, 100]], dtype=uint8)"
      ]
     },
     "execution_count": 242,
     "metadata": {},
     "output_type": "execute_result"
    }
   ],
   "source": [
    "b2"
   ]
  },
  {
   "cell_type": "code",
   "execution_count": 243,
   "metadata": {},
   "outputs": [
    {
     "data": {
      "text/plain": [
       "array([[ 10,  20,  30,  40,  50],\n",
       "       [ 60,  70,  80,  90, 100],\n",
       "       [110, 120, 130, 140, 150],\n",
       "       [160, 170, 180, 190, 200]], dtype=uint8)"
      ]
     },
     "execution_count": 243,
     "metadata": {},
     "output_type": "execute_result"
    }
   ],
   "source": [
    "b3"
   ]
  },
  {
   "cell_type": "markdown",
   "metadata": {},
   "source": [
    "* Third, create a multi-band array from b1, b2 and b3."
   ]
  },
  {
   "cell_type": "code",
   "execution_count": 244,
   "metadata": {},
   "outputs": [],
   "source": [
    "raster_like = np.array([b1, b2, b3])"
   ]
  },
  {
   "cell_type": "code",
   "execution_count": 245,
   "metadata": {},
   "outputs": [
    {
     "data": {
      "text/plain": [
       "array([[[  1,   2,   3,   4,   5],\n",
       "        [  6,   7,   8,   9,  10],\n",
       "        [ 11,  12,  13,  14,  15],\n",
       "        [ 16,  17,  18,  19,  20]],\n",
       "\n",
       "       [[  5,  10,  15,  20,  25],\n",
       "        [ 30,  35,  40,  45,  50],\n",
       "        [ 55,  60,  65,  70,  75],\n",
       "        [ 80,  85,  90,  95, 100]],\n",
       "\n",
       "       [[ 10,  20,  30,  40,  50],\n",
       "        [ 60,  70,  80,  90, 100],\n",
       "        [110, 120, 130, 140, 150],\n",
       "        [160, 170, 180, 190, 200]]], dtype=uint8)"
      ]
     },
     "execution_count": 245,
     "metadata": {},
     "output_type": "execute_result"
    }
   ],
   "source": [
    "raster_like"
   ]
  },
  {
   "cell_type": "code",
   "execution_count": 246,
   "metadata": {},
   "outputs": [
    {
     "data": {
      "text/plain": [
       "(3, 4, 5)"
      ]
     },
     "execution_count": 246,
     "metadata": {},
     "output_type": "execute_result"
    }
   ],
   "source": [
    "raster_like.shape"
   ]
  },
  {
   "cell_type": "markdown",
   "metadata": {},
   "source": [
    "##### There we go...an array with 3 bands, 4 rows and 5 columns. Since this is a small array we can see all the values and exactly where they are located in the array.\n",
    "\n",
    "##### 2. Now we will rearrange the array to the structure required by Scikit-learn."
   ]
  },
  {
   "cell_type": "code",
   "execution_count": 247,
   "metadata": {},
   "outputs": [],
   "source": [
    "sklearn_like = raster_like.reshape(raster_like.shape[0], raster_like.shape[1]*raster_like.shape[2]).T"
   ]
  },
  {
   "cell_type": "markdown",
   "metadata": {},
   "source": [
    "_Notes_\n",
    "```\n",
    "--reshape(num_bands, num_rows * num_cols)\n",
    "\n",
    "--'.T' is equivalent to '.transpose()', both of which transpose the array.\n",
    "```"
   ]
  },
  {
   "cell_type": "code",
   "execution_count": 248,
   "metadata": {},
   "outputs": [
    {
     "data": {
      "text/plain": [
       "array([[  1,   5,  10],\n",
       "       [  2,  10,  20],\n",
       "       [  3,  15,  30],\n",
       "       [  4,  20,  40],\n",
       "       [  5,  25,  50],\n",
       "       [  6,  30,  60],\n",
       "       [  7,  35,  70],\n",
       "       [  8,  40,  80],\n",
       "       [  9,  45,  90],\n",
       "       [ 10,  50, 100],\n",
       "       [ 11,  55, 110],\n",
       "       [ 12,  60, 120],\n",
       "       [ 13,  65, 130],\n",
       "       [ 14,  70, 140],\n",
       "       [ 15,  75, 150],\n",
       "       [ 16,  80, 160],\n",
       "       [ 17,  85, 170],\n",
       "       [ 18,  90, 180],\n",
       "       [ 19,  95, 190],\n",
       "       [ 20, 100, 200]], dtype=uint8)"
      ]
     },
     "execution_count": 248,
     "metadata": {},
     "output_type": "execute_result"
    }
   ],
   "source": [
    "sklearn_like"
   ]
  },
  {
   "cell_type": "code",
   "execution_count": 249,
   "metadata": {},
   "outputs": [
    {
     "data": {
      "text/plain": [
       "(20, 3)"
      ]
     },
     "execution_count": 249,
     "metadata": {},
     "output_type": "execute_result"
    }
   ],
   "source": [
    "sklearn_like.shape"
   ]
  },
  {
   "cell_type": "markdown",
   "metadata": {},
   "source": [
    "##### 3. Now let's go from an sklearn-like array back to a Rasterio-like array. It's easy."
   ]
  },
  {
   "cell_type": "code",
   "execution_count": 263,
   "metadata": {},
   "outputs": [],
   "source": [
    "raster_like2 = sklearn_like.T.reshape(raster_like.shape[0],raster_like.shape[1],raster_like.shape[2])"
   ]
  },
  {
   "cell_type": "code",
   "execution_count": 264,
   "metadata": {},
   "outputs": [
    {
     "data": {
      "text/plain": [
       "array([[[  1,   2,   3,   4,   5],\n",
       "        [  6,   7,   8,   9,  10],\n",
       "        [ 11,  12,  13,  14,  15],\n",
       "        [ 16,  17,  18,  19,  20]],\n",
       "\n",
       "       [[  5,  10,  15,  20,  25],\n",
       "        [ 30,  35,  40,  45,  50],\n",
       "        [ 55,  60,  65,  70,  75],\n",
       "        [ 80,  85,  90,  95, 100]],\n",
       "\n",
       "       [[ 10,  20,  30,  40,  50],\n",
       "        [ 60,  70,  80,  90, 100],\n",
       "        [110, 120, 130, 140, 150],\n",
       "        [160, 170, 180, 190, 200]]], dtype=uint8)"
      ]
     },
     "execution_count": 264,
     "metadata": {},
     "output_type": "execute_result"
    }
   ],
   "source": [
    "raster_like2"
   ]
  },
  {
   "cell_type": "code",
   "execution_count": 265,
   "metadata": {},
   "outputs": [
    {
     "data": {
      "text/plain": [
       "array([[[  1,   2,   3,   4,   5],\n",
       "        [  6,   7,   8,   9,  10],\n",
       "        [ 11,  12,  13,  14,  15],\n",
       "        [ 16,  17,  18,  19,  20]],\n",
       "\n",
       "       [[  5,  10,  15,  20,  25],\n",
       "        [ 30,  35,  40,  45,  50],\n",
       "        [ 55,  60,  65,  70,  75],\n",
       "        [ 80,  85,  90,  95, 100]],\n",
       "\n",
       "       [[ 10,  20,  30,  40,  50],\n",
       "        [ 60,  70,  80,  90, 100],\n",
       "        [110, 120, 130, 140, 150],\n",
       "        [160, 170, 180, 190, 200]]], dtype=uint8)"
      ]
     },
     "execution_count": 265,
     "metadata": {},
     "output_type": "execute_result"
    }
   ],
   "source": [
    "raster_like"
   ]
  },
  {
   "cell_type": "markdown",
   "metadata": {},
   "source": [
    "#### 4. Now we'll transform from a Rasterio-like array to a matplotlib-like array. We'll use similar procedures to before."
   ]
  },
  {
   "cell_type": "code",
   "execution_count": 266,
   "metadata": {},
   "outputs": [
    {
     "data": {
      "text/plain": [
       "array([[[  1,   2,   3,   4,   5],\n",
       "        [  6,   7,   8,   9,  10],\n",
       "        [ 11,  12,  13,  14,  15],\n",
       "        [ 16,  17,  18,  19,  20]],\n",
       "\n",
       "       [[  5,  10,  15,  20,  25],\n",
       "        [ 30,  35,  40,  45,  50],\n",
       "        [ 55,  60,  65,  70,  75],\n",
       "        [ 80,  85,  90,  95, 100]],\n",
       "\n",
       "       [[ 10,  20,  30,  40,  50],\n",
       "        [ 60,  70,  80,  90, 100],\n",
       "        [110, 120, 130, 140, 150],\n",
       "        [160, 170, 180, 190, 200]]], dtype=uint8)"
      ]
     },
     "execution_count": 266,
     "metadata": {},
     "output_type": "execute_result"
    }
   ],
   "source": [
    "raster_like"
   ]
  },
  {
   "cell_type": "code",
   "execution_count": 267,
   "metadata": {},
   "outputs": [],
   "source": [
    "matplotlib_like = np.transpose(raster_like, [1, 2, 0])"
   ]
  },
  {
   "cell_type": "code",
   "execution_count": 268,
   "metadata": {},
   "outputs": [
    {
     "data": {
      "text/plain": [
       "(4, 5, 3)"
      ]
     },
     "execution_count": 268,
     "metadata": {},
     "output_type": "execute_result"
    }
   ],
   "source": [
    "matplotlib_like.shape"
   ]
  },
  {
   "cell_type": "code",
   "execution_count": 270,
   "metadata": {},
   "outputs": [
    {
     "data": {
      "text/plain": [
       "array([[[  1,   5,  10],\n",
       "        [  2,  10,  20],\n",
       "        [  3,  15,  30],\n",
       "        [  4,  20,  40],\n",
       "        [  5,  25,  50]],\n",
       "\n",
       "       [[  6,  30,  60],\n",
       "        [  7,  35,  70],\n",
       "        [  8,  40,  80],\n",
       "        [  9,  45,  90],\n",
       "        [ 10,  50, 100]],\n",
       "\n",
       "       [[ 11,  55, 110],\n",
       "        [ 12,  60, 120],\n",
       "        [ 13,  65, 130],\n",
       "        [ 14,  70, 140],\n",
       "        [ 15,  75, 150]],\n",
       "\n",
       "       [[ 16,  80, 160],\n",
       "        [ 17,  85, 170],\n",
       "        [ 18,  90, 180],\n",
       "        [ 19,  95, 190],\n",
       "        [ 20, 100, 200]]], dtype=uint8)"
      ]
     },
     "execution_count": 270,
     "metadata": {},
     "output_type": "execute_result"
    }
   ],
   "source": [
    "matplotlib_like"
   ]
  },
  {
   "cell_type": "markdown",
   "metadata": {},
   "source": [
    "##### 5. Let's display this."
   ]
  },
  {
   "cell_type": "code",
   "execution_count": 271,
   "metadata": {},
   "outputs": [],
   "source": [
    "%matplotlib inline \n",
    "# for an interactive plot, use '%matplotlib notebook' instead of '%matplotlib inline'\n",
    "import matplotlib\n",
    "import matplotlib.pyplot as plt"
   ]
  },
  {
   "cell_type": "code",
   "execution_count": 272,
   "metadata": {},
   "outputs": [
    {
     "data": {
      "text/plain": [
       "<matplotlib.image.AxesImage at 0x7f89b3d10390>"
      ]
     },
     "execution_count": 272,
     "metadata": {},
     "output_type": "execute_result"
    },
    {
     "data": {
      "image/png": "[encoded data removed]",
      "text/plain": [
       "<matplotlib.figure.Figure at 0x7f89b3d86cf8>"
      ]
     },
     "metadata": {},
     "output_type": "display_data"
    }
   ],
   "source": [
    "plt.imshow(matplotlib_like)"
   ]
  },
  {
   "cell_type": "markdown",
   "metadata": {},
   "source": [
    "##### 6. Finally, let's go from a matplotlib-like array to a Rasterio-like array."
   ]
  },
  {
   "cell_type": "code",
   "execution_count": 259,
   "metadata": {},
   "outputs": [],
   "source": [
    "raster_like3 = np.transpose(matplotlib_like, [2, 0, 1])"
   ]
  },
  {
   "cell_type": "code",
   "execution_count": 260,
   "metadata": {},
   "outputs": [
    {
     "data": {
      "text/plain": [
       "array([[[  1,   2,   3,   4,   5],\n",
       "        [  6,   7,   8,   9,  10],\n",
       "        [ 11,  12,  13,  14,  15],\n",
       "        [ 16,  17,  18,  19,  20]],\n",
       "\n",
       "       [[  5,  10,  15,  20,  25],\n",
       "        [ 30,  35,  40,  45,  50],\n",
       "        [ 55,  60,  65,  70,  75],\n",
       "        [ 80,  85,  90,  95, 100]],\n",
       "\n",
       "       [[ 10,  20,  30,  40,  50],\n",
       "        [ 60,  70,  80,  90, 100],\n",
       "        [110, 120, 130, 140, 150],\n",
       "        [160, 170, 180, 190, 200]]], dtype=uint8)"
      ]
     },
     "execution_count": 260,
     "metadata": {},
     "output_type": "execute_result"
    }
   ],
   "source": [
    "raster_like3"
   ]
  },
  {
   "cell_type": "markdown",
   "metadata": {},
   "source": [
    "---\n",
    "As you can see, our final array (raster_like3) is the same as our original array (raster_like)--we have been successful in all our transformations.  Now you can use **Rasterio**, **Scikit-learn** and **matplotlib** and be able to convert your image data from one structure to another."
   ]
  }
 ],
 "metadata": {
  "kernelspec": {
   "display_name": "Python 3",
   "language": "python",
   "name": "python3"
  },
  "language_info": {
   "codemirror_mode": {
    "name": "ipython",
    "version": 3
   },
   "file_extension": ".py",
   "mimetype": "text/x-python",
   "name": "python",
   "nbconvert_exporter": "python",
   "pygments_lexer": "ipython3",
   "version": "3.7.3"
  }
 },
 "nbformat": 4,
 "nbformat_minor": 4
}
